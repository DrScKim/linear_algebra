{
 "cells": [
  {
   "cell_type": "code",
   "execution_count": 4,
   "metadata": {},
   "outputs": [],
   "source": [
    "from IPython.display import Image\n",
    "from IPython.core.display import HTML \n",
    "#Image(url= \"https://upload.wikimedia.org/wikipedia/commons/thumb/a/ad/Area_parallellogram_as_determinant.svg/440px-Area_parallellogram_as_determinant.svg.png\")"
   ]
  },
  {
   "cell_type": "markdown",
   "metadata": {},
   "source": [
    "# 역행렬 Inverse Matrix\n",
    "\n",
    "역행렬: 원래 행렬과 곱했을 때, 단위행렬이 되는 행렬을 역행렬\n",
    "$$ AA^{-1} = A^{-1}A = I $$\n",
    "\n",
    "\n",
    "2X2행렬의 역행렬 계산 방식\n",
    "\n",
    "$$A^{-1} = \\begin{bmatrix}\n",
    "a & b \\\\ c & d \\\\\n",
    "\\end{bmatrix}^{-1} =\n",
    "\\frac{1}{ad - bc} \\begin{bmatrix}\n",
    "d & -b \\\\ -c & a \\\\\n",
    "\\end{bmatrix}$$\n",
    "\n",
    "\n",
    "\n",
    "행렬식 Determinant\n",
    "\n",
    "행렬식이 갖는 기하학적 의미 : 행렬의 도형이 갖는 면적, 부피\n",
    "\n",
    "$$A^{-1} = \\begin{bmatrix}\n",
    "a & b \\\\ c & d \\\\\n",
    "\\end{bmatrix}^{-1} =\n",
    "\\frac{1}{ad - bc} \\begin{bmatrix}\n",
    "d & -b \\\\ -c & a \\\\\n",
    "\\end{bmatrix}$$\n",
    "\n",
    "$$\n",
    "V_{2} = \\begin{bmatrix}\n",
    "x_{1} & y_{1} \\\\ x_{2} & y_{2} \\\\\n",
    "\\end{bmatrix}\n",
    "$$\n",
    "\n",
    "\n"
   ]
  },
  {
   "cell_type": "markdown",
   "metadata": {},
   "source": [
    "### 2-dimension's Determinant"
   ]
  },
  {
   "cell_type": "code",
   "execution_count": 7,
   "metadata": {},
   "outputs": [
    {
     "data": {
      "text/html": [
       "<img src=\"https://upload.wikimedia.org/wikipedia/commons/thumb/a/ad/Area_parallellogram_as_determinant.svg/440px-Area_parallellogram_as_determinant.svg.png\" width=\"400\"/>"
      ],
      "text/plain": [
       "<IPython.core.display.Image object>"
      ]
     },
     "execution_count": 7,
     "metadata": {},
     "output_type": "execute_result"
    }
   ],
   "source": [
    "Image(url= \"https://upload.wikimedia.org/wikipedia/commons/thumb/a/ad/Area_parallellogram_as_determinant.svg/440px-Area_parallellogram_as_determinant.svg.png\", width = 400)\n"
   ]
  },
  {
   "cell_type": "markdown",
   "metadata": {},
   "source": [
    "### 3-dimension's Determinant "
   ]
  },
  {
   "cell_type": "code",
   "execution_count": 9,
   "metadata": {},
   "outputs": [
    {
     "data": {
      "text/html": [
       "<img src=\"https://upload.wikimedia.org/wikipedia/commons/thumb/b/b9/Determinant_parallelepiped.svg/600px-Determinant_parallelepiped.svg.png\" width=\"400\"/>"
      ],
      "text/plain": [
       "<IPython.core.display.Image object>"
      ]
     },
     "execution_count": 9,
     "metadata": {},
     "output_type": "execute_result"
    }
   ],
   "source": [
    "Image(url= \"https://upload.wikimedia.org/wikipedia/commons/thumb/b/b9/Determinant_parallelepiped.svg/600px-Determinant_parallelepiped.svg.png\", width=400)"
   ]
  },
  {
   "cell_type": "code",
   "execution_count": null,
   "metadata": {},
   "outputs": [],
   "source": []
  }
 ],
 "metadata": {
  "kernelspec": {
   "display_name": "Python 3",
   "language": "python",
   "name": "python3"
  },
  "language_info": {
   "codemirror_mode": {
    "name": "ipython",
    "version": 3
   },
   "file_extension": ".py",
   "mimetype": "text/x-python",
   "name": "python",
   "nbconvert_exporter": "python",
   "pygments_lexer": "ipython3",
   "version": "3.6.8"
  }
 },
 "nbformat": 4,
 "nbformat_minor": 2
}
