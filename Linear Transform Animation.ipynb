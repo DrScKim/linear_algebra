{
 "cells": [
  {
   "cell_type": "code",
   "execution_count": 1,
   "metadata": {},
   "outputs": [],
   "source": [
    "import matplotlib\n",
    "import numpy as np\n",
    "import matplotlib.pyplot as plt\n",
    "from matplotlib.patches import Circle, Wedge, Polygon\n",
    "from matplotlib.collections import PatchCollection\n",
    "from matplotlib import animation, rc\n",
    "from IPython.display import HTML\n",
    "\n",
    "%matplotlib inline"
   ]
  },
  {
   "cell_type": "markdown",
   "metadata": {},
   "source": [
    "## Description\n",
    "\n",
    "이 노트북은 선형변환을 animation화 하여 linear transformation에 대한 직관적 이해를 돕기 위한 것 입니다. <br>\n",
    "2차원 공간을 선형변환하는 예시등을 통해 공간이 어떻게 변환하는지 확인할 수 있습니다. <br>\n",
    "직접 노트북을 수정하여 2차원 공간에서 다양한 변환을 직접 확인해보실 수도 있습니다. <br>\n",
    "이 노트북은 책 \"프로그래머를 위한 선형대수\" 의 Ruby코드를 참고하여 파이썬으로 옮긴 코드입니다. <br>\n",
    "\n",
    "많은 분들이 선형변환에 대하여 직관을 기르시고 거부감을 줄이는데 이 노트북이 도움이 되었으면 합니다. <br>"
   ]
  },
  {
   "cell_type": "markdown",
   "metadata": {},
   "source": [
    "## Variable Initialize"
   ]
  },
  {
   "cell_type": "code",
   "execution_count": 2,
   "metadata": {},
   "outputs": [],
   "source": [
    "nFrames = 20\n",
    "nInterval = 2"
   ]
  },
  {
   "cell_type": "code",
   "execution_count": 3,
   "metadata": {},
   "outputs": [
    {
     "data": {
      "image/png": "[encoded data removed]",
      "text/plain": [
       "<Figure size 432x288 with 1 Axes>"
      ]
     },
     "metadata": {
      "needs_background": "light"
     },
     "output_type": "display_data"
    }
   ],
   "source": [
    "fig, ax = plt.subplots()\n",
    "line, = ax.plot([], [], lw=2)\n",
    "\n",
    "\n",
    "arrow1 = np.matrix([(1,0)])\n",
    "arrow2 = np.matrix([(0,1)])\n",
    "\n",
    "coord = np.matrix([(-1,-1),(-1,1),(1,1),(1,-1)])\n"
   ]
  },
  {
   "cell_type": "markdown",
   "metadata": {},
   "source": [
    "## Method describe\n",
    "calculateCoordinate\n",
    "- 2차원 평면, 그리고 2개의 화살표의 linear transform 후 변환되는 좌표를 계산하는 함수\n",
    "\n",
    "setDimensionCoord\n",
    "- 변환된 좌표를 적용하여 변환된 평면을 그리는 함수\n"
   ]
  },
  {
   "cell_type": "code",
   "execution_count": 16,
   "metadata": {},
   "outputs": [],
   "source": [
    "# Background Space Visualize\n",
    "\n",
    "def calculateCoordinate(i, nFrames):\n",
    "    \n",
    "    finalBg = np.matmul(coord, transformMat)\n",
    "    finalArrow1 = np.matmul(arrow1, transformMat)\n",
    "    finalArrow2 = np.matmul(arrow2, transformMat)\n",
    "    \n",
    "    diffBg =  ((finalBg - coord)/nFrames)*i\n",
    "    diffArrow1 = ((finalArrow1 - arrow1)/nFrames)*i\n",
    "    diffArrow2 = ((finalArrow2 - arrow2)/nFrames)*i\n",
    "    \n",
    "    return (diffBg, diffArrow1, diffArrow2)\n",
    "\n",
    "def setDimensionCoord(diffBg):\n",
    "    initBgCoord = np.matrix([(-1,-1),(-1,1),(1,1),(1,-1)])\n",
    "    bg = np.asarray( initBgCoord + diffBg )\n",
    "    \n",
    "    coordinateList = list()\n",
    "    for xy in bg:\n",
    "        coordinateList.append((xy.item(0), xy.item(1)))\n",
    "    patches = []\n",
    "    polygon = Polygon(np.array(coordinateList) ,True)\n",
    "    polygon.set_color('#0099FF')\n",
    "    patches.append(polygon)\n",
    "    p = PatchCollection(patches, alpha=0.3)\n",
    "    return p\n",
    "    \n"
   ]
  },
  {
   "cell_type": "code",
   "execution_count": 12,
   "metadata": {},
   "outputs": [],
   "source": [
    "def reset_ax():\n",
    "    ax.clear()\n",
    "    ax.set_xlim((-2, 2))\n",
    "    ax.set_ylim((-2, 2))\n",
    "    "
   ]
  },
  {
   "cell_type": "code",
   "execution_count": 13,
   "metadata": {},
   "outputs": [],
   "source": [
    "def animate(i):\n",
    "    reset_ax()\n",
    "    \n",
    "    x = np.linspace(0,1,100)\n",
    "    y = np.linspace(0,1,100)\n",
    "    diffBg, diffArrow1, diffArrow2 = calculateCoordinate(i, nFrames)\n",
    "    \n",
    "    bg = setDimensionCoord(diffBg)\n",
    "    \n",
    "    a1 = arrow1 + diffArrow1\n",
    "    a2 = arrow2 + diffArrow2\n",
    "    \n",
    "    a1 = plt.Arrow(0,0,a1.item(0),a1.item(1), color='black')\n",
    "    a2 = plt.Arrow(0,0,a2.item(0),a2.item(1), color='black')\n",
    "    \n",
    "    ax.add_collection(bg)\n",
    "    ax.add_patch(a1)\n",
    "    ax.add_patch(a2)\n",
    "    line, = ax.plot([], [], lw=1)\n",
    "    line.set_data([], [])\n",
    "    return (line,)\n",
    "    "
   ]
  },
  {
   "cell_type": "markdown",
   "metadata": {},
   "source": [
    "### Description of init function\n",
    "\n",
    "\n",
    "animation.FuncAnimation의 인자 init_func에 아래 중 하나의 함수를 적용하여 \n",
    "어떤 벡터를 활용하여 선형 변환하였을 때, 그 공간이 변환하는 과정을 확인할 수 있습니다.\n",
    "예를 들어 anim = animation.FuncAnimation(fig, animate, init_func=init1, frames = nFrames, interval=nInterval, blit=True)로 코드 작성 후에 스크립트를 수행하면 x축으로 1.5배 확장, y축으로 0.5배 축소되는 공간을 애니메이션으로 확인할 수 있습니다.\n",
    "\n",
    "\n",
    "##### init1\n",
    "<br>\n",
    "general diagonal matrix <br>\n",
    "Expand horizontal space (*1.5) and collapse vertical space (*0.5) <br>\n",
    "area's magnification power is 0.75 = 1.5*0.5, this is equal Determinant of A <br>\n",
    "\n",
    "일반적인 대각 행렬을 이용하여 선형변환을 하는 것을 보여주는 메쏘드 <br>\n",
    "x축으로 1.5배, y축으로 0.5배 공간이 변환 됨 <br>\n",
    "이럴 경우 공간의 배율은 0.75배가 되고 (1.5*0.5 = 0.75) 이는 A의 행렬식과 일치함을 알 수 있다. <br>\n",
    "\n",
    "\\begin{equation*}\n",
    "A =  \n",
    "\\begin{bmatrix}\n",
    "1.5 & 0 \\\\\n",
    "0 & 0.5 \\\\\n",
    "\\end{bmatrix}\n",
    "\\end{equation*}\n",
    "##### init2\n",
    "<br>\n",
    "general diagonal matrix with 0 in diagonal element <br>\n",
    "Eliminate horizontal space (*0) and collapse vertical space (*0.5) <br>\n",
    "area's magnification power is 0 = 0.0*0.5, this is equal Determinant of A <br>\n",
    "\n",
    "x축이 0인 대각행렬로 선형변환을 하는 것을 보여주는 메쏘드 <br>\n",
    "x축으로 0배, y축으로 0.5배 공간이 변환 됨 (x축으로 공간이 소멸되는 것을 확인 할 수 있다.) <br>\n",
    "이럴 경우 공간의 배율은 0배가 되고 (0.0*0.5 = 0.75) 이는 A의 행렬식과 일치함을 알 수 있다. <br>\n",
    "\n",
    "\\begin{equation*}\n",
    "A =  \n",
    "\\begin{bmatrix}\n",
    "0 & 0 \\\\\n",
    "0 & 0.5 \\\\\n",
    "\\end{bmatrix}\n",
    "\\end{equation*}\n",
    "##### init3\n",
    "일반적인 대각 행렬을 이용하여 선형변환을 하는 것을 보여주는 메쏘드 <br>\n",
    "x축으로 1.5배, y축으로 0.5배 축소 하고, 방향이 반대로 바뀌는 (-) 공간이 변환 됨 <br> \n",
    "이럴 경우 공간의 배율은 0.75배가 되고 (1.5*0.5 = 0.75) 이는 A의 행렬식과 일치함을 알 수 있다. <br>\n",
    "\n",
    "\\begin{equation*}\n",
    "A =  \n",
    "\\begin{bmatrix}\n",
    "1.5 & 0 \\\\\n",
    "0 & -0.5 \\\\\n",
    "\\end{bmatrix}\n",
    "\\end{equation*}\n",
    "##### init4\n",
    "\\begin{equation*}\n",
    "A =  \n",
    "\\begin{bmatrix}\n",
    "1 & -0.3 \\\\\n",
    "-0.7 & 0.6 \\\\\n",
    "\\end{bmatrix}\n",
    "\\end{equation*}\n",
    "##### init5"
   ]
  },
  {
   "cell_type": "code",
   "execution_count": null,
   "metadata": {},
   "outputs": [],
   "source": [
    "def init1():\n",
    "    global transformMat\n",
    "    transformMat = np.matrix([(1.5,0),(0,0.5)])\n",
    "    line.set_data([],[])\n",
    "    return (line,)\n",
    "def init2():\n",
    "    global transformMat\n",
    "    transformMat = np.matrix([(0,0),(0,0.5)])\n",
    "    line.set_data([],[])\n",
    "    return (line,)\n",
    "def init3():\n",
    "    global transformMat\n",
    "    transformMat = np.matrix([(1.5,0),(0,-0.5)])\n",
    "    line.set_data([],[])\n",
    "    return (line,)\n",
    "def init4():\n",
    "    global transformMat\n",
    "    transformMat = np.matrix([(1,-0.3),(-0.7,0.6)])\n",
    "    line.set_data([],[])\n",
    "    return (line,)\n",
    "\n",
    "anim = animation.FuncAnimation(fig, animate, init_func=init4, frames = nFrames, interval=nInterval, blit=True)"
   ]
  },
  {
   "cell_type": "code",
   "execution_count": null,
   "metadata": {},
   "outputs": [],
   "source": [
    "HTML(anim.to_jshtml())"
   ]
  },
  {
   "cell_type": "code",
   "execution_count": 9,
   "metadata": {},
   "outputs": [],
   "source": [
    "a = np.matrix([(-1,-1),(-1,1),(1,1),(1,-1)])\n",
    "b = np.asarray(a)\n",
    "         "
   ]
  },
  {
   "cell_type": "code",
   "execution_count": 10,
   "metadata": {},
   "outputs": [
    {
     "name": "stdout",
     "output_type": "stream",
     "text": [
      "-1\n",
      "-1\n",
      "-1\n",
      "1\n",
      "1\n",
      "1\n",
      "1\n",
      "-1\n"
     ]
    }
   ],
   "source": [
    "for xy in b:\n",
    "    print(xy.item(0))\n",
    "    print(xy.item(1))"
   ]
  },
  {
   "cell_type": "code",
   "execution_count": null,
   "metadata": {},
   "outputs": [],
   "source": []
  },
  {
   "cell_type": "code",
   "execution_count": null,
   "metadata": {},
   "outputs": [],
   "source": []
  }
 ],
 "metadata": {
  "kernelspec": {
   "display_name": "Python 3",
   "language": "python",
   "name": "python3"
  },
  "language_info": {
   "codemirror_mode": {
    "name": "ipython",
    "version": 3
   },
   "file_extension": ".py",
   "mimetype": "text/x-python",
   "name": "python",
   "nbconvert_exporter": "python",
   "pygments_lexer": "ipython3",
   "version": "3.6.8"
  }
 },
 "nbformat": 4,
 "nbformat_minor": 2
}
