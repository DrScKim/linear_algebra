{
 "cells": [
  {
   "cell_type": "code",
   "execution_count": 1,
   "metadata": {},
   "outputs": [],
   "source": [
    "import matplotlib\n",
    "import numpy as np\n",
    "import matplotlib.pyplot as plt\n",
    "from matplotlib.patches import Circle, Wedge, Polygon\n",
    "from matplotlib.collections import PatchCollection\n",
    "from matplotlib import animation, rc\n",
    "from IPython.display import HTML\n",
    "\n",
    "%matplotlib inline"
   ]
  },
  {
   "cell_type": "markdown",
   "metadata": {},
   "source": [
    "## Variable Setting"
   ]
  },
  {
   "cell_type": "code",
   "execution_count": 2,
   "metadata": {},
   "outputs": [
    {
     "name": "stdout",
     "output_type": "stream",
     "text": [
      "[[1.5 0. ]]\n",
      "[[ 0.  -0.5]]\n",
      "[[-1.5  0.5]\n",
      " [-1.5 -0.5]\n",
      " [ 1.5 -0.5]\n",
      " [ 1.5  0.5]]\n",
      "1\n",
      "0\n"
     ]
    },
    {
     "data": {
      "image/png": "[encoded data removed]",
      "text/plain": [
       "<Figure size 432x288 with 1 Axes>"
      ]
     },
     "metadata": {
      "needs_background": "light"
     },
     "output_type": "display_data"
    }
   ],
   "source": [
    "fig, ax = plt.subplots()\n",
    "line, = ax.plot([], [], lw=2)\n",
    "\n",
    "transformMat = np.matrix([(1.5,0),(0,-0.5)])\n",
    "arrow1 = np.matrix([(1,0)])\n",
    "arrow2 = np.matrix([(0,1)])\n",
    "\n",
    "coord = np.matrix([(-1,-1),(-1,1),(1,1),(1,-1)])\n",
    "\n",
    "print(np.matmul(arrow1,transformMat))\n",
    "print(np.matmul(arrow2,transformMat))\n",
    "print(np.matmul(coord,transformMat))\n",
    "print(arrow1.item(0))\n",
    "print(arrow1.item(1))"
   ]
  },
  {
   "cell_type": "code",
   "execution_count": 3,
   "metadata": {},
   "outputs": [
    {
     "name": "stdout",
     "output_type": "stream",
     "text": [
      "[[-1 -1]\n",
      " [-1  1]\n",
      " [ 1  1]\n",
      " [ 1 -1]]\n",
      "[[-0.75  0.25]\n",
      " [-0.75 -0.25]\n",
      " [ 0.75 -0.25]\n",
      " [ 0.75  0.25]]\n",
      "[[-0.5  1.5]\n",
      " [-0.5 -1.5]\n",
      " [ 0.5 -1.5]\n",
      " [ 0.5  1.5]]\n"
     ]
    }
   ],
   "source": [
    "A=np.matmul(coord,transformMat)\n",
    "B = A-coord\n",
    "\n",
    "print(coord)\n",
    "print(A/2)\n",
    "print(B)"
   ]
  },
  {
   "cell_type": "code",
   "execution_count": 4,
   "metadata": {},
   "outputs": [],
   "source": [
    "# Background Space Visualize\n",
    "\n",
    "def calculateCoordinate(i, nFrames):\n",
    "    finalBg = np.matmul(coord, transformMat)\n",
    "    finalArrow1 = np.matmul(arrow1, transformMat)\n",
    "    finalArrow2 = np.matmul(arrow2, transformMat)\n",
    "    diffBg =  ((finalBg - coord)/nFrames)*i\n",
    "    diffArrow1 = ((finalArrow1 - arrow1)/nFrames)*i\n",
    "    diffArrow2 = ((finalArrow2 - arrow2)/nFrames)*i\n",
    "    \n",
    "    return (diffBg, diffArrow1, diffArrow2)\n",
    "\n",
    "def setDimensionCoord(x1,y1,x2,y2,x3,y3,x4,y4):\n",
    "    patches = []\n",
    "    polygon = Polygon(np.array([(x1,y1),(x2,y2),(x3,y3),(x4,y4)]) ,True)\n",
    "    polygon.set_color('#0099FF')\n",
    "    patches.append(polygon)\n",
    "    p = PatchCollection(patches, alpha=0.3)\n",
    "    return p\n",
    "    \n"
   ]
  },
  {
   "cell_type": "code",
   "execution_count": 5,
   "metadata": {},
   "outputs": [],
   "source": [
    "matA = np.matrix(([1,-0.3],[-0.7,0.6]))"
   ]
  },
  {
   "cell_type": "code",
   "execution_count": 6,
   "metadata": {},
   "outputs": [],
   "source": [
    "def init():\n",
    "    line.set_data([],[])\n",
    "    return (line,)"
   ]
  },
  {
   "cell_type": "code",
   "execution_count": 7,
   "metadata": {},
   "outputs": [],
   "source": [
    "def reset_ax():\n",
    "    ax.clear()\n",
    "    ax.set_xlim((-2, 2))\n",
    "    ax.set_ylim((-2, 2))\n",
    "    "
   ]
  },
  {
   "cell_type": "code",
   "execution_count": 8,
   "metadata": {},
   "outputs": [],
   "source": [
    "nFrames = 100\n",
    "nInterval = 5"
   ]
  },
  {
   "cell_type": "code",
   "execution_count": null,
   "metadata": {},
   "outputs": [],
   "source": [
    "def animate(i):\n",
    "    reset_ax()\n",
    "    p = setDimensionCoord(-1,-1,-1,1,1,1,1,-1)\n",
    "    ax.add_collection(p)\n",
    "    \n",
    "    x = np.linspace(0,1,100)\n",
    "    y = np.linspace(0,1,100)\n",
    "    #arrow1 = plt.Arrow(0,0,1,0, 0.1, color='black')\n",
    "    #arrow2 = plt.Arrow(0,0,0,1, 0.1, color='black')\n",
    "    diffBg, diffArrow1, diffArrow2 = calculateCoordinate(i, nFrames)\n",
    "\n",
    "    \n",
    "    a1 = arrow1 + diffArrow1\n",
    "    a2 = arrow2 + diffArrow2\n",
    "    \n",
    "    a1 = plt.Arrow(0,0,a1.item(0),a1.item(1))\n",
    "    a2 = plt.Arrow(0,0,a2.item(0),a2.item(1))\n",
    "    \n",
    "    ax.add_patch(a1)\n",
    "    ax.add_patch(a2)\n",
    "    line, = ax.plot([], [], lw=1)\n",
    "    line.set_data([], [])\n",
    "    return (line,)\n",
    "    "
   ]
  },
  {
   "cell_type": "code",
   "execution_count": null,
   "metadata": {},
   "outputs": [],
   "source": [
    "x1=0\n",
    "x2=1\n",
    "x = np.linspace(x1,x2,1000)\n",
    "y1=0\n",
    "y2=1\n",
    "y = np.linspace(y1,y2,1000)"
   ]
  },
  {
   "cell_type": "code",
   "execution_count": null,
   "metadata": {},
   "outputs": [],
   "source": [
    "anim = animation.FuncAnimation(fig, animate, init_func=init, frames = nFrames, interval=nInterval, blit=True)"
   ]
  },
  {
   "cell_type": "code",
   "execution_count": null,
   "metadata": {},
   "outputs": [],
   "source": [
    "HTML(anim.to_jshtml())"
   ]
  },
  {
   "cell_type": "code",
   "execution_count": null,
   "metadata": {},
   "outputs": [],
   "source": [
    "def checkerboard_table(data, fmt='{:.2f}', bkg_colors=['yellow', 'white']):\n",
    "    fig, ax = plt.subplots()\n",
    "    ax.set_axis_off()\n",
    "    tb = Table(ax, bbox=[0,0,1,1])\n",
    "\n",
    "    nrows, ncols = data.shape\n",
    "    width, height = 1.0 / ncols, 1.0 / nrows\n",
    "\n",
    "    # Add cells\n",
    "    for (i,j), val in np.ndenumerate(data):\n",
    "        # Index either the first or second item of bkg_colors based on\n",
    "        # a checker board pattern\n",
    "        idx = [j % 2, (j + 1) % 2][i % 2]\n",
    "        color = bkg_colors[idx]\n",
    "\n",
    "        tb.add_cell(i, j, width, height, text=fmt.format(val), \n",
    "                    loc='center', facecolor=color)\n",
    "\n",
    "    # Row Labels...\n",
    "    for i, label in enumerate(data.index):\n",
    "        tb.add_cell(i, -1, width, height, text=label, loc='right', \n",
    "                    edgecolor='none', facecolor='none')\n",
    "    # Column Labels...\n",
    "    for j, label in enumerate(data.columns):\n",
    "        tb.add_cell(-1, j, width, height/2, text=label, loc='center', \n",
    "                           edgecolor='none', facecolor='none')\n",
    "    ax.add_table(tb)\n",
    "    return fig"
   ]
  },
  {
   "cell_type": "code",
   "execution_count": null,
   "metadata": {},
   "outputs": [],
   "source": [
    "\n"
   ]
  },
  {
   "cell_type": "code",
   "execution_count": null,
   "metadata": {},
   "outputs": [],
   "source": []
  }
 ],
 "metadata": {
  "kernelspec": {
   "display_name": "Python 3",
   "language": "python",
   "name": "python3"
  },
  "language_info": {
   "codemirror_mode": {
    "name": "ipython",
    "version": 3
   },
   "file_extension": ".py",
   "mimetype": "text/x-python",
   "name": "python",
   "nbconvert_exporter": "python",
   "pygments_lexer": "ipython3",
   "version": "3.6.8"
  }
 },
 "nbformat": 4,
 "nbformat_minor": 2
}
